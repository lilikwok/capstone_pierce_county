{
 "cells": [
  {
   "cell_type": "code",
   "execution_count": 49,
   "metadata": {
    "collapsed": true,
    "pycharm": {
     "is_executing": false
    }
   },
   "outputs": [],
   "source": [
    "import pandas as pd\n",
    "import numpy as np\n",
    "from sklearn.preprocessing import StandardScaler\n",
    "from sklearn.neural_network import MLPClassifier\n",
    "from sklearn.metrics import mean_squared_error"
   ]
  },
  {
   "cell_type": "code",
   "execution_count": null,
   "outputs": [],
   "source": [
    "from sklearn.utils import check_array\n",
    "def mean_absolute_percentage_error(y_true, y_pred): \n",
    "    y_true = y_true.values\n",
    "    y_true = y_true.reshape(-1,1)\n",
    "    y_pred = y_pred.reshape(-1,1)\n",
    "    y_true = check_array(y_true)\n",
    "    y_pred = check_array(y_pred)\n",
    "    return np.mean(np.abs((y_true - y_pred) / y_true)) * 100\n"
   ],
   "metadata": {
    "collapsed": false,
    "pycharm": {
     "name": "#%%\n"
    }
   }
  },
  {
   "cell_type": "markdown",
   "source": [
    "# import the dataset "
   ],
   "metadata": {
    "collapsed": false,
    "pycharm": {
     "name": "#%% md\n"
    }
   }
  },
  {
   "cell_type": "code",
   "execution_count": 33,
   "outputs": [],
   "source": [
    "df = pd.read_csv(r\"C:\\Users\\shuai\\OneDrive\\Onedrive-Courses\\BUAN5510\\capstoneProject\\github\\capstone_pierce_county\\master_model.csv\", sep=',', header=0)\n",
    "df['View_Quality'] = df['View_Quality'].astype('category')\n",
    "df['Waterfront_Type'] = df['Waterfront_Type'].astype('category')\n",
    "df['withInSewerImprovement'] = df['withInSewerImprovement'].astype('category')\n",
    "df['near_firestation'] = df['near_firestation'].astype('category')\n",
    "df['near_healthcare'] = df['near_healthcare'].astype('category')\n",
    "df['near_libraries'] = df['near_libraries'].astype('category')\n",
    "df['near_policestation'] = df['near_policestation'].astype('category')\n",
    "df['near_schools'] = df['near_schools'].astype('category')\n",
    "df['near_waterplants'] = df['near_waterplants'].astype('category')\n",
    "df['condition'] = df['condition'].astype('category')\n",
    "df['quality'] = df['quality'].astype('category')\n",
    "df['attic_finished_square_feet'] = df['attic_finished_square_feet'].astype('category')\n",
    "df['basement_square_feet'] = df['basement_square_feet'].astype('category')\n",
    "df['basement_finished_square_feet'] = df['basement_finished_square_feet'].astype('category')\n",
    "df['porch_square_feet'] = df['porch_square_feet'].astype('category')\n",
    "df['attached_garage_square_feet'] = df['attached_garage_square_feet'].astype('category')\n",
    "df['detached_garage_square_feet'] = df['detached_garage_square_feet'].astype('category')\n",
    "df['fireplaces'] = df['fireplaces'].astype('category')\n",
    "df['fireplaces'] = df['fireplaces'].astype('category')\n",
    "df['Sale_Date'] = pd.to_datetime(df['Sale_Date'], format='%Y-%m-%d')\n",
    "# df['Sale_Date'] = df['Sale_Date'].astype('object')\n",
    "df = df.drop(columns=['Parcel_Number','Land_Economic_Area'])\n"
   ],
   "metadata": {
    "collapsed": false,
    "pycharm": {
     "name": "#%%\n",
     "is_executing": false
    }
   }
  },
  {
   "cell_type": "code",
   "execution_count": 77,
   "outputs": [],
   "source": [
    "y = df['sale_price']\n",
    "x = df.drop(['sale_price','Sale_Date'], axis=1)\n",
    "x['Crime_Num'] = x['Crime_Num'].fillna(x['Crime_Num'].median())\n",
    "x = x.astype('float64')\n"
   ],
   "metadata": {
    "collapsed": false,
    "pycharm": {
     "name": "#%%\n",
     "is_executing": false
    }
   }
  },
  {
   "cell_type": "code",
   "execution_count": 51,
   "outputs": [],
   "source": [
    "mlp_3_3_3 = MLPClassifier(hidden_layer_sizes=(3,3,3), max_iter=1000)  \n",
    "mlp_3_3_3.fit(x, y) "
   ],
   "metadata": {
    "collapsed": false,
    "pycharm": {
     "name": "#%%\n",
     "is_executing": false
    }
   }
  },
  {
   "cell_type": "code",
   "execution_count": 85,
   "outputs": [],
   "source": [
    "y_pred_3_3_3 = mlp_3_3_3.predict(x)  \n"
   ],
   "metadata": {
    "collapsed": false,
    "pycharm": {
     "name": "#%%\n",
     "is_executing": false
    }
   }
  },
  {
   "cell_type": "code",
   "execution_count": 88,
   "outputs": [
    {
     "data": {
      "text/plain": "7433174071.701973"
     },
     "metadata": {},
     "output_type": "execute_result",
     "execution_count": 88
    }
   ],
   "source": [
    "MSE = mean_squared_error(y.values, y_pred_3_3_3)\n",
    "MSE"
   ],
   "metadata": {
    "collapsed": false,
    "pycharm": {
     "name": "#%%\n",
     "is_executing": false
    }
   }
  },
  {
   "cell_type": "code",
   "execution_count": 89,
   "outputs": [
    {
     "data": {
      "text/plain": "22.126614896344332"
     },
     "metadata": {},
     "output_type": "execute_result",
     "execution_count": 89
    }
   ],
   "source": [
    "mean_absolute_percentage_error(y, y_pred_3_3_3)\n"
   ],
   "metadata": {
    "collapsed": false,
    "pycharm": {
     "name": "#%%\n",
     "is_executing": false
    }
   }
  },
  {
   "cell_type": "code",
   "execution_count": 90,
   "outputs": [
    {
     "data": {
      "text/plain": "MLPClassifier(activation='logistic', alpha=0.0001, batch_size='auto',\n              beta_1=0.9, beta_2=0.999, early_stopping=False, epsilon=1e-08,\n              hidden_layer_sizes=(3, 3, 3), learning_rate='constant',\n              learning_rate_init=0.001, max_iter=1000, momentum=0.9,\n              n_iter_no_change=10, nesterovs_momentum=True, power_t=0.5,\n              random_state=None, shuffle=True, solver='adam', tol=0.0001,\n              validation_fraction=0.1, verbose=False, warm_start=False)"
     },
     "metadata": {},
     "output_type": "execute_result",
     "execution_count": 90
    }
   ],
   "source": [
    "mlp_log_3_3_3 = MLPClassifier(activation='logistic',hidden_layer_sizes=(3,3,3), max_iter=1000)  \n",
    "mlp_log_3_3_3.fit(x, y) "
   ],
   "metadata": {
    "collapsed": false,
    "pycharm": {
     "name": "#%%\n",
     "is_executing": false
    }
   }
  },
  {
   "cell_type": "code",
   "execution_count": 91,
   "outputs": [
    {
     "data": {
      "text/plain": "31.30027420705059"
     },
     "metadata": {},
     "output_type": "execute_result",
     "execution_count": 91
    }
   ],
   "source": [
    "y_pred_log_3_3_3 = mlp_log_3_3_3.predict(x) \n",
    "mean_absolute_percentage_error(y, y_pred_log_3_3_3)"
   ],
   "metadata": {
    "collapsed": false,
    "pycharm": {
     "name": "#%%\n",
     "is_executing": false
    }
   }
  },
  {
   "cell_type": "code",
   "execution_count": 92,
   "outputs": [
    {
     "data": {
      "text/plain": "MLPClassifier(activation='identity', alpha=0.0001, batch_size='auto',\n              beta_1=0.9, beta_2=0.999, early_stopping=False, epsilon=1e-08,\n              hidden_layer_sizes=(3, 3, 3), learning_rate='constant',\n              learning_rate_init=0.001, max_iter=1000, momentum=0.9,\n              n_iter_no_change=10, nesterovs_momentum=True, power_t=0.5,\n              random_state=None, shuffle=True, solver='adam', tol=0.0001,\n              validation_fraction=0.1, verbose=False, warm_start=False)"
     },
     "metadata": {},
     "output_type": "execute_result",
     "execution_count": 92
    }
   ],
   "source": [
    "mlp_iden_3_3_3 = MLPClassifier(activation='identity',hidden_layer_sizes=(3,3,3), max_iter=1000)  \n",
    "mlp_iden_3_3_3.fit(x, y) "
   ],
   "metadata": {
    "collapsed": false,
    "pycharm": {
     "name": "#%%\n",
     "is_executing": false
    }
   }
  },
  {
   "cell_type": "code",
   "execution_count": 93,
   "outputs": [
    {
     "data": {
      "text/plain": "21.018454879016925"
     },
     "metadata": {},
     "output_type": "execute_result",
     "execution_count": 93
    }
   ],
   "source": [
    "y_pred_iden_3_3_3 = mlp_iden_3_3_3.predict(x) \n",
    "mean_absolute_percentage_error(y, y_pred_iden_3_3_3)"
   ],
   "metadata": {
    "collapsed": false,
    "pycharm": {
     "name": "#%%\n",
     "is_executing": false
    }
   }
  },
  {
   "cell_type": "code",
   "source": [
    "scaler = StandardScaler()  \n",
    "scaler.fit(x.astype(float))\n",
    "x_norm = scaler.transform(x.astype(float))"
   ],
   "metadata": {
    "collapsed": false,
    "pycharm": {
     "name": "#%% \n",
     "is_executing": false
    }
   },
   "execution_count": 94,
   "outputs": []
  },
  {
   "cell_type": "code",
   "execution_count": null,
   "outputs": [],
   "source": [
    "mlp_3_3_3_n = MLPClassifier(hidden_layer_sizes=(3,3,3), max_iter=1000)  \n",
    "mlp_3_3_3_n.fit(x, y) "
   ],
   "metadata": {
    "collapsed": false,
    "pycharm": {
     "name": "#%%\n",
     "is_executing": true
    }
   }
  },
  {
   "cell_type": "code",
   "execution_count": null,
   "outputs": [],
   "source": [
    "y_pred_3_3_3_n = mlp_3_3_3_n.predict(x)  \n"
   ],
   "metadata": {
    "collapsed": false,
    "pycharm": {
     "name": "#%%\n"
    }
   }
  },
  {
   "cell_type": "code",
   "execution_count": null,
   "outputs": [],
   "source": [
    "mean_absolute_percentage_error(y, y_pred_3_3_3)"
   ],
   "metadata": {
    "collapsed": false,
    "pycharm": {
     "name": "#%%\n"
    }
   }
  },
  {
   "cell_type": "code",
   "execution_count": null,
   "outputs": [],
   "source": [
    "mlp_log_3_3_3_n = MLPClassifier(activation='logistic',hidden_layer_sizes=(3,3,3), max_iter=1000)  \n",
    "mlp_log_3_3_3_n.fit(x, y) "
   ],
   "metadata": {
    "collapsed": false,
    "pycharm": {
     "name": "#%%\n"
    }
   }
  },
  {
   "cell_type": "code",
   "execution_count": null,
   "outputs": [],
   "source": [
    "y_pred_log_3_3_3_n = mlp_log_3_3_3_n.predict(x) \n",
    "mean_absolute_percentage_error(y, y_pred_log_3_3_3_n)"
   ],
   "metadata": {
    "collapsed": false,
    "pycharm": {
     "name": "#%%\n"
    }
   }
  },
  {
   "cell_type": "code",
   "execution_count": null,
   "outputs": [],
   "source": [
    "mlp_iden_3_3_3_n = MLPClassifier(activation='identity',hidden_layer_sizes=(3,3,3), max_iter=1000)  \n",
    "mlp_iden_3_3_3_n.fit(x, y) "
   ],
   "metadata": {
    "collapsed": false,
    "pycharm": {
     "name": "#%%\n"
    }
   }
  },
  {
   "cell_type": "code",
   "execution_count": null,
   "outputs": [],
   "source": [
    "y_pred_iden_3_3_3_n = mlp_iden_3_3_3_n.predict(x) \n",
    "mean_absolute_percentage_error(y, y_pred_iden_3_3_3_n)"
   ],
   "metadata": {
    "collapsed": false,
    "pycharm": {
     "name": "#%%\n"
    }
   }
  }
 ],
 "metadata": {
  "language_info": {
   "codemirror_mode": {
    "name": "ipython",
    "version": 2
   },
   "file_extension": ".py",
   "mimetype": "text/x-python",
   "name": "python",
   "nbconvert_exporter": "python",
   "pygments_lexer": "ipython2",
   "version": "2.7.6"
  },
  "kernelspec": {
   "name": "python3",
   "language": "python",
   "display_name": "Python 3"
  },
  "pycharm": {
   "stem_cell": {
    "cell_type": "raw",
    "source": [],
    "metadata": {
     "collapsed": false
    }
   }
  }
 },
 "nbformat": 4,
 "nbformat_minor": 0
}